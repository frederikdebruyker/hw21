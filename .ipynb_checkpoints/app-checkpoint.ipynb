{
 "cells": [
  {
   "cell_type": "code",
   "execution_count": null,
   "metadata": {},
   "outputs": [],
   "source": [
    "from sklearn import tree\n",
    "import pandas as pd\n",
    "import os\n",
    "import numpy as np"
   ]
  },
  {
   "cell_type": "markdown",
   "metadata": {},
   "source": [
    "# Preprocess the Data"
   ]
  },
  {
   "cell_type": "code",
   "execution_count": null,
   "metadata": {},
   "outputs": [],
   "source": [
    "# Pull in cumulative.csv\n",
    "rawData = pd.read_csv(os.path.join(\"Resources\", \"cumulative.csv\"))\n",
    "rawData.head()"
   ]
  },
  {
   "cell_type": "markdown",
   "metadata": {},
   "source": [
    "## Preprocess the raw dataset prior to fitting the model"
   ]
  },
  {
   "cell_type": "code",
   "execution_count": null,
   "metadata": {},
   "outputs": [],
   "source": [
    "rawData.count()"
   ]
  },
  {
   "cell_type": "code",
   "execution_count": null,
   "metadata": {},
   "outputs": [],
   "source": [
    "rawData.shape"
   ]
  },
  {
   "cell_type": "code",
   "execution_count": null,
   "metadata": {},
   "outputs": [],
   "source": [
    "# Features\n",
    "features = rawData"
   ]
  },
  {
   "cell_type": "code",
   "execution_count": null,
   "metadata": {},
   "outputs": [],
   "source": [
    "features.shape"
   ]
  },
  {
   "cell_type": "code",
   "execution_count": null,
   "metadata": {},
   "outputs": [],
   "source": [
    "features = features.dropna(subset=['koi_score', 'koi_period_err1','koi_period_err2','koi_time0bk_err1','koi_time0bk_err2','koi_impact','koi_impact_err1','koi_impact_err2','koi_duration_err1','koi_duration_err2','koi_depth','koi_depth_err1','koi_depth_err2','koi_prad','koi_prad_err1','koi_prad_err2','koi_teq','koi_insol','koi_insol_err1','koi_insol_err2','koi_model_snr','koi_steff','koi_steff_err1','koi_steff_err2','koi_slogg','koi_slogg_err1','koi_slogg_err2','koi_srad','koi_srad_err1','koi_srad_err2'])"
   ]
  },
  {
   "cell_type": "code",
   "execution_count": null,
   "metadata": {},
   "outputs": [],
   "source": [
    "features.shape"
   ]
  },
  {
   "cell_type": "code",
   "execution_count": null,
   "metadata": {},
   "outputs": [],
   "source": [
    "features['Label'] = (features.koi_disposition == 'CONFIRMED').astype(int)"
   ]
  },
  {
   "cell_type": "code",
   "execution_count": null,
   "metadata": {},
   "outputs": [],
   "source": [
    "# define target\n",
    "\n",
    "y = np.array(features.Label)\n",
    "# convert to numerical value\n",
    "\n",
    "# show y\n",
    "y"
   ]
  },
  {
   "cell_type": "code",
   "execution_count": null,
   "metadata": {},
   "outputs": [],
   "source": [
    "# drop non used columns\n",
    "features = features.drop('rowid', axis=1)\n",
    "features = features.drop('kepid', axis=1)\n",
    "features = features.drop('kepoi_name', axis=1)\n",
    "features = features.drop('Label', axis=1)\n",
    "features = features.drop('koi_score', axis=1)\n",
    "features = features.drop('koi_disposition', axis=1)\n",
    "features = features.drop('koi_pdisposition', axis=1)\n",
    "features = features.drop('kepler_name', axis=1)\n",
    "features = features.drop('koi_tce_plnt_num', axis=1)\n",
    "features = features.drop('koi_tce_delivname', axis=1)\n",
    "# error columns removed per feature review below\n",
    "features = features.drop('koi_period_err1', axis=1)\n",
    "features = features.drop('koi_period_err2', axis=1)\n",
    "features = features.drop('koi_time0bk_err1', axis=1)\n",
    "features = features.drop('koi_time0bk_err2', axis=1)\n",
    "features = features.drop('koi_impact_err1', axis=1)\n",
    "features = features.drop('koi_impact_err2', axis=1)\n",
    "features = features.drop('koi_duration_err1', axis=1)\n",
    "features = features.drop('koi_duration_err2', axis=1)\n",
    "features = features.drop('koi_depth_err1', axis=1)\n",
    "features = features.drop('koi_depth_err2', axis=1)\n",
    "features = features.drop('koi_prad_err1', axis=1)\n",
    "features = features.drop('koi_prad_err2', axis=1)\n",
    "features = features.drop('koi_teq_err1', axis=1)\n",
    "features = features.drop('koi_teq_err2', axis=1)\n",
    "features = features.drop('koi_insol_err1', axis=1)\n",
    "features = features.drop('koi_insol_err2', axis=1)\n",
    "features = features.drop('koi_steff_err1', axis=1)\n",
    "features = features.drop('koi_steff_err2', axis=1)\n",
    "features = features.drop('koi_slogg_err1', axis=1)\n",
    "features = features.drop('koi_slogg_err2', axis=1)\n",
    "features = features.drop('koi_srad_err1', axis=1)\n",
    "features = features.drop('koi_srad_err2', axis=1)"
   ]
  },
  {
   "cell_type": "code",
   "execution_count": null,
   "metadata": {},
   "outputs": [],
   "source": [
    "features.count()"
   ]
  },
  {
   "cell_type": "code",
   "execution_count": null,
   "metadata": {},
   "outputs": [],
   "source": [
    "features.shape"
   ]
  },
  {
   "cell_type": "code",
   "execution_count": null,
   "metadata": {},
   "outputs": [],
   "source": [
    "features.head()"
   ]
  },
  {
   "cell_type": "code",
   "execution_count": null,
   "metadata": {},
   "outputs": [],
   "source": [
    "# only numerical values - there should not be any\n",
    "features = features.select_dtypes(include=['number'])\n",
    "features.shape                                   "
   ]
  },
  {
   "cell_type": "code",
   "execution_count": null,
   "metadata": {},
   "outputs": [],
   "source": [
    "features.describe()"
   ]
  },
  {
   "cell_type": "code",
   "execution_count": null,
   "metadata": {},
   "outputs": [],
   "source": [
    "feature_names = features.columns\n",
    "feature_names"
   ]
  },
  {
   "cell_type": "code",
   "execution_count": null,
   "metadata": {},
   "outputs": [],
   "source": [
    "# X is an array of arrays based on the dataframe\n",
    "X = features.to_numpy(copy=True)\n",
    "X"
   ]
  },
  {
   "cell_type": "markdown",
   "metadata": {},
   "source": [
    "## Perform feature selection and remove unnecessary features"
   ]
  },
  {
   "cell_type": "code",
   "execution_count": null,
   "metadata": {},
   "outputs": [],
   "source": [
    "from sklearn.model_selection import train_test_split\n",
    "X_train, X_test, y_train, y_test = train_test_split(X, y, random_state=42)"
   ]
  },
  {
   "cell_type": "code",
   "execution_count": null,
   "metadata": {},
   "outputs": [],
   "source": [
    "from sklearn.ensemble import RandomForestClassifier"
   ]
  },
  {
   "cell_type": "code",
   "execution_count": null,
   "metadata": {},
   "outputs": [],
   "source": [
    "# Create a random forest classifier\n",
    "rf = RandomForestClassifier(n_estimators=200)\n",
    "rf = rf.fit(X_train, y_train)\n",
    "rf.score(X_train, y_train)"
   ]
  },
  {
   "cell_type": "code",
   "execution_count": null,
   "metadata": {},
   "outputs": [],
   "source": [
    "# Random Forests in sklearn will automatically calculate feature importance\n",
    "importances = rf.feature_importances_\n",
    "importances"
   ]
  },
  {
   "cell_type": "code",
   "execution_count": null,
   "metadata": {},
   "outputs": [],
   "source": [
    "# We can sort the features by their importance\n",
    "sorted(zip(rf.feature_importances_, feature_names), reverse=True)"
   ]
  },
  {
   "cell_type": "code",
   "execution_count": null,
   "metadata": {},
   "outputs": [],
   "source": [
    "# validate per test data\n",
    "rf.score(X_test, y_test)"
   ]
  },
  {
   "cell_type": "code",
   "execution_count": null,
   "metadata": {},
   "outputs": [],
   "source": []
  }
 ],
 "metadata": {
  "kernelspec": {
   "display_name": "Python 3",
   "language": "python",
   "name": "python3"
  },
  "language_info": {
   "codemirror_mode": {
    "name": "ipython",
    "version": 3
   },
   "file_extension": ".py",
   "mimetype": "text/x-python",
   "name": "python",
   "nbconvert_exporter": "python",
   "pygments_lexer": "ipython3",
   "version": "3.7.3"
  }
 },
 "nbformat": 4,
 "nbformat_minor": 2
}
