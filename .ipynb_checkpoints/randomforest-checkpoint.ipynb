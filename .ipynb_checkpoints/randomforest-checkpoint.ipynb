{
 "cells": [
  {
   "cell_type": "code",
   "execution_count": 1,
   "metadata": {},
   "outputs": [],
   "source": [
    "from sklearn import tree\n",
    "import pandas as pd\n",
    "import os\n",
    "import numpy as np"
   ]
  },
  {
   "cell_type": "markdown",
   "metadata": {},
   "source": [
    "# Preprocess the Data"
   ]
  },
  {
   "cell_type": "code",
   "execution_count": 2,
   "metadata": {},
   "outputs": [
    {
     "data": {
      "text/html": [
       "<div>\n",
       "<style scoped>\n",
       "    .dataframe tbody tr th:only-of-type {\n",
       "        vertical-align: middle;\n",
       "    }\n",
       "\n",
       "    .dataframe tbody tr th {\n",
       "        vertical-align: top;\n",
       "    }\n",
       "\n",
       "    .dataframe thead th {\n",
       "        text-align: right;\n",
       "    }\n",
       "</style>\n",
       "<table border=\"1\" class=\"dataframe\">\n",
       "  <thead>\n",
       "    <tr style=\"text-align: right;\">\n",
       "      <th></th>\n",
       "      <th>rowid</th>\n",
       "      <th>kepid</th>\n",
       "      <th>kepoi_name</th>\n",
       "      <th>kepler_name</th>\n",
       "      <th>koi_disposition</th>\n",
       "      <th>koi_pdisposition</th>\n",
       "      <th>koi_score</th>\n",
       "      <th>koi_fpflag_nt</th>\n",
       "      <th>koi_fpflag_ss</th>\n",
       "      <th>koi_fpflag_co</th>\n",
       "      <th>...</th>\n",
       "      <th>koi_steff_err2</th>\n",
       "      <th>koi_slogg</th>\n",
       "      <th>koi_slogg_err1</th>\n",
       "      <th>koi_slogg_err2</th>\n",
       "      <th>koi_srad</th>\n",
       "      <th>koi_srad_err1</th>\n",
       "      <th>koi_srad_err2</th>\n",
       "      <th>ra</th>\n",
       "      <th>dec</th>\n",
       "      <th>koi_kepmag</th>\n",
       "    </tr>\n",
       "  </thead>\n",
       "  <tbody>\n",
       "    <tr>\n",
       "      <th>0</th>\n",
       "      <td>1</td>\n",
       "      <td>10797460</td>\n",
       "      <td>K00752.01</td>\n",
       "      <td>Kepler-227 b</td>\n",
       "      <td>CONFIRMED</td>\n",
       "      <td>CANDIDATE</td>\n",
       "      <td>1.000</td>\n",
       "      <td>0</td>\n",
       "      <td>0</td>\n",
       "      <td>0</td>\n",
       "      <td>...</td>\n",
       "      <td>-81.0</td>\n",
       "      <td>4.467</td>\n",
       "      <td>0.064</td>\n",
       "      <td>-0.096</td>\n",
       "      <td>0.927</td>\n",
       "      <td>0.105</td>\n",
       "      <td>-0.061</td>\n",
       "      <td>291.93423</td>\n",
       "      <td>48.141651</td>\n",
       "      <td>15.347</td>\n",
       "    </tr>\n",
       "    <tr>\n",
       "      <th>1</th>\n",
       "      <td>2</td>\n",
       "      <td>10797460</td>\n",
       "      <td>K00752.02</td>\n",
       "      <td>Kepler-227 c</td>\n",
       "      <td>CONFIRMED</td>\n",
       "      <td>CANDIDATE</td>\n",
       "      <td>0.969</td>\n",
       "      <td>0</td>\n",
       "      <td>0</td>\n",
       "      <td>0</td>\n",
       "      <td>...</td>\n",
       "      <td>-81.0</td>\n",
       "      <td>4.467</td>\n",
       "      <td>0.064</td>\n",
       "      <td>-0.096</td>\n",
       "      <td>0.927</td>\n",
       "      <td>0.105</td>\n",
       "      <td>-0.061</td>\n",
       "      <td>291.93423</td>\n",
       "      <td>48.141651</td>\n",
       "      <td>15.347</td>\n",
       "    </tr>\n",
       "    <tr>\n",
       "      <th>2</th>\n",
       "      <td>3</td>\n",
       "      <td>10811496</td>\n",
       "      <td>K00753.01</td>\n",
       "      <td>NaN</td>\n",
       "      <td>FALSE POSITIVE</td>\n",
       "      <td>FALSE POSITIVE</td>\n",
       "      <td>0.000</td>\n",
       "      <td>0</td>\n",
       "      <td>1</td>\n",
       "      <td>0</td>\n",
       "      <td>...</td>\n",
       "      <td>-176.0</td>\n",
       "      <td>4.544</td>\n",
       "      <td>0.044</td>\n",
       "      <td>-0.176</td>\n",
       "      <td>0.868</td>\n",
       "      <td>0.233</td>\n",
       "      <td>-0.078</td>\n",
       "      <td>297.00482</td>\n",
       "      <td>48.134129</td>\n",
       "      <td>15.436</td>\n",
       "    </tr>\n",
       "    <tr>\n",
       "      <th>3</th>\n",
       "      <td>4</td>\n",
       "      <td>10848459</td>\n",
       "      <td>K00754.01</td>\n",
       "      <td>NaN</td>\n",
       "      <td>FALSE POSITIVE</td>\n",
       "      <td>FALSE POSITIVE</td>\n",
       "      <td>0.000</td>\n",
       "      <td>0</td>\n",
       "      <td>1</td>\n",
       "      <td>0</td>\n",
       "      <td>...</td>\n",
       "      <td>-174.0</td>\n",
       "      <td>4.564</td>\n",
       "      <td>0.053</td>\n",
       "      <td>-0.168</td>\n",
       "      <td>0.791</td>\n",
       "      <td>0.201</td>\n",
       "      <td>-0.067</td>\n",
       "      <td>285.53461</td>\n",
       "      <td>48.285210</td>\n",
       "      <td>15.597</td>\n",
       "    </tr>\n",
       "    <tr>\n",
       "      <th>4</th>\n",
       "      <td>5</td>\n",
       "      <td>10854555</td>\n",
       "      <td>K00755.01</td>\n",
       "      <td>Kepler-664 b</td>\n",
       "      <td>CONFIRMED</td>\n",
       "      <td>CANDIDATE</td>\n",
       "      <td>1.000</td>\n",
       "      <td>0</td>\n",
       "      <td>0</td>\n",
       "      <td>0</td>\n",
       "      <td>...</td>\n",
       "      <td>-211.0</td>\n",
       "      <td>4.438</td>\n",
       "      <td>0.070</td>\n",
       "      <td>-0.210</td>\n",
       "      <td>1.046</td>\n",
       "      <td>0.334</td>\n",
       "      <td>-0.133</td>\n",
       "      <td>288.75488</td>\n",
       "      <td>48.226200</td>\n",
       "      <td>15.509</td>\n",
       "    </tr>\n",
       "  </tbody>\n",
       "</table>\n",
       "<p>5 rows × 50 columns</p>\n",
       "</div>"
      ],
      "text/plain": [
       "   rowid     kepid kepoi_name   kepler_name koi_disposition koi_pdisposition  \\\n",
       "0      1  10797460  K00752.01  Kepler-227 b       CONFIRMED        CANDIDATE   \n",
       "1      2  10797460  K00752.02  Kepler-227 c       CONFIRMED        CANDIDATE   \n",
       "2      3  10811496  K00753.01           NaN  FALSE POSITIVE   FALSE POSITIVE   \n",
       "3      4  10848459  K00754.01           NaN  FALSE POSITIVE   FALSE POSITIVE   \n",
       "4      5  10854555  K00755.01  Kepler-664 b       CONFIRMED        CANDIDATE   \n",
       "\n",
       "   koi_score  koi_fpflag_nt  koi_fpflag_ss  koi_fpflag_co  ...  \\\n",
       "0      1.000              0              0              0  ...   \n",
       "1      0.969              0              0              0  ...   \n",
       "2      0.000              0              1              0  ...   \n",
       "3      0.000              0              1              0  ...   \n",
       "4      1.000              0              0              0  ...   \n",
       "\n",
       "   koi_steff_err2  koi_slogg  koi_slogg_err1  koi_slogg_err2  koi_srad  \\\n",
       "0           -81.0      4.467           0.064          -0.096     0.927   \n",
       "1           -81.0      4.467           0.064          -0.096     0.927   \n",
       "2          -176.0      4.544           0.044          -0.176     0.868   \n",
       "3          -174.0      4.564           0.053          -0.168     0.791   \n",
       "4          -211.0      4.438           0.070          -0.210     1.046   \n",
       "\n",
       "   koi_srad_err1  koi_srad_err2         ra        dec  koi_kepmag  \n",
       "0          0.105         -0.061  291.93423  48.141651      15.347  \n",
       "1          0.105         -0.061  291.93423  48.141651      15.347  \n",
       "2          0.233         -0.078  297.00482  48.134129      15.436  \n",
       "3          0.201         -0.067  285.53461  48.285210      15.597  \n",
       "4          0.334         -0.133  288.75488  48.226200      15.509  \n",
       "\n",
       "[5 rows x 50 columns]"
      ]
     },
     "execution_count": 2,
     "metadata": {},
     "output_type": "execute_result"
    }
   ],
   "source": [
    "# Pull in cumulative.csv\n",
    "rawData = pd.read_csv(os.path.join(\"Resources\", \"cumulative.csv\"))\n",
    "rawData.head()"
   ]
  },
  {
   "cell_type": "markdown",
   "metadata": {},
   "source": [
    "## Preprocess the raw dataset prior to fitting the model"
   ]
  },
  {
   "cell_type": "code",
   "execution_count": 3,
   "metadata": {},
   "outputs": [
    {
     "data": {
      "text/plain": [
       "rowid                9564\n",
       "kepid                9564\n",
       "kepoi_name           9564\n",
       "kepler_name          2294\n",
       "koi_disposition      9564\n",
       "koi_pdisposition     9564\n",
       "koi_score            8054\n",
       "koi_fpflag_nt        9564\n",
       "koi_fpflag_ss        9564\n",
       "koi_fpflag_co        9564\n",
       "koi_fpflag_ec        9564\n",
       "koi_period           9564\n",
       "koi_period_err1      9110\n",
       "koi_period_err2      9110\n",
       "koi_time0bk          9564\n",
       "koi_time0bk_err1     9110\n",
       "koi_time0bk_err2     9110\n",
       "koi_impact           9201\n",
       "koi_impact_err1      9110\n",
       "koi_impact_err2      9110\n",
       "koi_duration         9564\n",
       "koi_duration_err1    9110\n",
       "koi_duration_err2    9110\n",
       "koi_depth            9201\n",
       "koi_depth_err1       9110\n",
       "koi_depth_err2       9110\n",
       "koi_prad             9201\n",
       "koi_prad_err1        9201\n",
       "koi_prad_err2        9201\n",
       "koi_teq              9201\n",
       "koi_teq_err1            0\n",
       "koi_teq_err2            0\n",
       "koi_insol            9243\n",
       "koi_insol_err1       9243\n",
       "koi_insol_err2       9243\n",
       "koi_model_snr        9201\n",
       "koi_tce_plnt_num     9218\n",
       "koi_tce_delivname    9218\n",
       "koi_steff            9201\n",
       "koi_steff_err1       9096\n",
       "koi_steff_err2       9081\n",
       "koi_slogg            9201\n",
       "koi_slogg_err1       9096\n",
       "koi_slogg_err2       9096\n",
       "koi_srad             9201\n",
       "koi_srad_err1        9096\n",
       "koi_srad_err2        9096\n",
       "ra                   9564\n",
       "dec                  9564\n",
       "koi_kepmag           9563\n",
       "dtype: int64"
      ]
     },
     "execution_count": 3,
     "metadata": {},
     "output_type": "execute_result"
    }
   ],
   "source": [
    "rawData.count()"
   ]
  },
  {
   "cell_type": "code",
   "execution_count": 4,
   "metadata": {},
   "outputs": [
    {
     "data": {
      "text/plain": [
       "(9564, 50)"
      ]
     },
     "execution_count": 4,
     "metadata": {},
     "output_type": "execute_result"
    }
   ],
   "source": [
    "rawData.shape"
   ]
  },
  {
   "cell_type": "code",
   "execution_count": 5,
   "metadata": {},
   "outputs": [],
   "source": [
    "# Features\n",
    "features = rawData"
   ]
  },
  {
   "cell_type": "code",
   "execution_count": 6,
   "metadata": {},
   "outputs": [
    {
     "data": {
      "text/plain": [
       "(9564, 50)"
      ]
     },
     "execution_count": 6,
     "metadata": {},
     "output_type": "execute_result"
    }
   ],
   "source": [
    "features.shape"
   ]
  },
  {
   "cell_type": "code",
   "execution_count": 7,
   "metadata": {},
   "outputs": [],
   "source": [
    "features = features.dropna(subset=['koi_score', 'koi_period_err1','koi_period_err2','koi_time0bk_err1','koi_time0bk_err2','koi_impact','koi_impact_err1','koi_impact_err2','koi_duration_err1','koi_duration_err2','koi_depth','koi_depth_err1','koi_depth_err2','koi_prad','koi_prad_err1','koi_prad_err2','koi_teq','koi_insol','koi_insol_err1','koi_insol_err2','koi_model_snr','koi_steff','koi_steff_err1','koi_steff_err2','koi_slogg','koi_slogg_err1','koi_slogg_err2','koi_srad','koi_srad_err1','koi_srad_err2'])"
   ]
  },
  {
   "cell_type": "code",
   "execution_count": 8,
   "metadata": {},
   "outputs": [
    {
     "data": {
      "text/plain": [
       "(7803, 50)"
      ]
     },
     "execution_count": 8,
     "metadata": {},
     "output_type": "execute_result"
    }
   ],
   "source": [
    "features.shape"
   ]
  },
  {
   "cell_type": "code",
   "execution_count": 9,
   "metadata": {},
   "outputs": [
    {
     "name": "stderr",
     "output_type": "stream",
     "text": [
      "C:\\ProgramData\\Anaconda3\\lib\\site-packages\\ipykernel_launcher.py:1: SettingWithCopyWarning: \n",
      "A value is trying to be set on a copy of a slice from a DataFrame.\n",
      "Try using .loc[row_indexer,col_indexer] = value instead\n",
      "\n",
      "See the caveats in the documentation: http://pandas.pydata.org/pandas-docs/stable/indexing.html#indexing-view-versus-copy\n",
      "  \"\"\"Entry point for launching an IPython kernel.\n"
     ]
    }
   ],
   "source": [
    "features['Label'] = (features.koi_disposition == 'CONFIRMED').astype(int)"
   ]
  },
  {
   "cell_type": "code",
   "execution_count": 10,
   "metadata": {},
   "outputs": [
    {
     "data": {
      "text/plain": [
       "array([1, 1, 0, ..., 0, 0, 0])"
      ]
     },
     "execution_count": 10,
     "metadata": {},
     "output_type": "execute_result"
    }
   ],
   "source": [
    "# define target\n",
    "\n",
    "y = np.array(features.Label)\n",
    "# convert to numerical value\n",
    "\n",
    "# show y\n",
    "y"
   ]
  },
  {
   "cell_type": "code",
   "execution_count": 11,
   "metadata": {},
   "outputs": [],
   "source": [
    "# drop non used columns\n",
    "features = features.drop('rowid', axis=1)\n",
    "features = features.drop('kepid', axis=1)\n",
    "features = features.drop('kepoi_name', axis=1)\n",
    "features = features.drop('Label', axis=1)\n",
    "features = features.drop('koi_score', axis=1)\n",
    "features = features.drop('koi_disposition', axis=1)\n",
    "features = features.drop('koi_pdisposition', axis=1)\n",
    "features = features.drop('kepler_name', axis=1)\n",
    "features = features.drop('koi_tce_plnt_num', axis=1)\n",
    "features = features.drop('koi_tce_delivname', axis=1)\n",
    "# error columns removed per feature review below\n",
    "features = features.drop('koi_period_err1', axis=1)\n",
    "features = features.drop('koi_period_err2', axis=1)\n",
    "features = features.drop('koi_time0bk_err1', axis=1)\n",
    "features = features.drop('koi_time0bk_err2', axis=1)\n",
    "features = features.drop('koi_impact_err1', axis=1)\n",
    "features = features.drop('koi_impact_err2', axis=1)\n",
    "features = features.drop('koi_duration_err1', axis=1)\n",
    "features = features.drop('koi_duration_err2', axis=1)\n",
    "features = features.drop('koi_depth_err1', axis=1)\n",
    "features = features.drop('koi_depth_err2', axis=1)\n",
    "features = features.drop('koi_prad_err1', axis=1)\n",
    "features = features.drop('koi_prad_err2', axis=1)\n",
    "features = features.drop('koi_teq_err1', axis=1)\n",
    "features = features.drop('koi_teq_err2', axis=1)\n",
    "features = features.drop('koi_insol_err1', axis=1)\n",
    "features = features.drop('koi_insol_err2', axis=1)\n",
    "features = features.drop('koi_steff_err1', axis=1)\n",
    "features = features.drop('koi_steff_err2', axis=1)\n",
    "features = features.drop('koi_slogg_err1', axis=1)\n",
    "features = features.drop('koi_slogg_err2', axis=1)\n",
    "features = features.drop('koi_srad_err1', axis=1)\n",
    "features = features.drop('koi_srad_err2', axis=1)"
   ]
  },
  {
   "cell_type": "code",
   "execution_count": 12,
   "metadata": {},
   "outputs": [
    {
     "data": {
      "text/plain": [
       "koi_fpflag_nt    7803\n",
       "koi_fpflag_ss    7803\n",
       "koi_fpflag_co    7803\n",
       "koi_fpflag_ec    7803\n",
       "koi_period       7803\n",
       "koi_time0bk      7803\n",
       "koi_impact       7803\n",
       "koi_duration     7803\n",
       "koi_depth        7803\n",
       "koi_prad         7803\n",
       "koi_teq          7803\n",
       "koi_insol        7803\n",
       "koi_model_snr    7803\n",
       "koi_steff        7803\n",
       "koi_slogg        7803\n",
       "koi_srad         7803\n",
       "ra               7803\n",
       "dec              7803\n",
       "koi_kepmag       7803\n",
       "dtype: int64"
      ]
     },
     "execution_count": 12,
     "metadata": {},
     "output_type": "execute_result"
    }
   ],
   "source": [
    "features.count()"
   ]
  },
  {
   "cell_type": "code",
   "execution_count": 13,
   "metadata": {},
   "outputs": [
    {
     "data": {
      "text/plain": [
       "(7803, 19)"
      ]
     },
     "execution_count": 13,
     "metadata": {},
     "output_type": "execute_result"
    }
   ],
   "source": [
    "features.shape"
   ]
  },
  {
   "cell_type": "code",
   "execution_count": 14,
   "metadata": {},
   "outputs": [
    {
     "data": {
      "text/html": [
       "<div>\n",
       "<style scoped>\n",
       "    .dataframe tbody tr th:only-of-type {\n",
       "        vertical-align: middle;\n",
       "    }\n",
       "\n",
       "    .dataframe tbody tr th {\n",
       "        vertical-align: top;\n",
       "    }\n",
       "\n",
       "    .dataframe thead th {\n",
       "        text-align: right;\n",
       "    }\n",
       "</style>\n",
       "<table border=\"1\" class=\"dataframe\">\n",
       "  <thead>\n",
       "    <tr style=\"text-align: right;\">\n",
       "      <th></th>\n",
       "      <th>koi_fpflag_nt</th>\n",
       "      <th>koi_fpflag_ss</th>\n",
       "      <th>koi_fpflag_co</th>\n",
       "      <th>koi_fpflag_ec</th>\n",
       "      <th>koi_period</th>\n",
       "      <th>koi_time0bk</th>\n",
       "      <th>koi_impact</th>\n",
       "      <th>koi_duration</th>\n",
       "      <th>koi_depth</th>\n",
       "      <th>koi_prad</th>\n",
       "      <th>koi_teq</th>\n",
       "      <th>koi_insol</th>\n",
       "      <th>koi_model_snr</th>\n",
       "      <th>koi_steff</th>\n",
       "      <th>koi_slogg</th>\n",
       "      <th>koi_srad</th>\n",
       "      <th>ra</th>\n",
       "      <th>dec</th>\n",
       "      <th>koi_kepmag</th>\n",
       "    </tr>\n",
       "  </thead>\n",
       "  <tbody>\n",
       "    <tr>\n",
       "      <th>0</th>\n",
       "      <td>0</td>\n",
       "      <td>0</td>\n",
       "      <td>0</td>\n",
       "      <td>0</td>\n",
       "      <td>9.488036</td>\n",
       "      <td>170.538750</td>\n",
       "      <td>0.146</td>\n",
       "      <td>2.95750</td>\n",
       "      <td>615.8</td>\n",
       "      <td>2.26</td>\n",
       "      <td>793.0</td>\n",
       "      <td>93.59</td>\n",
       "      <td>35.8</td>\n",
       "      <td>5455.0</td>\n",
       "      <td>4.467</td>\n",
       "      <td>0.927</td>\n",
       "      <td>291.93423</td>\n",
       "      <td>48.141651</td>\n",
       "      <td>15.347</td>\n",
       "    </tr>\n",
       "    <tr>\n",
       "      <th>1</th>\n",
       "      <td>0</td>\n",
       "      <td>0</td>\n",
       "      <td>0</td>\n",
       "      <td>0</td>\n",
       "      <td>54.418383</td>\n",
       "      <td>162.513840</td>\n",
       "      <td>0.586</td>\n",
       "      <td>4.50700</td>\n",
       "      <td>874.8</td>\n",
       "      <td>2.83</td>\n",
       "      <td>443.0</td>\n",
       "      <td>9.11</td>\n",
       "      <td>25.8</td>\n",
       "      <td>5455.0</td>\n",
       "      <td>4.467</td>\n",
       "      <td>0.927</td>\n",
       "      <td>291.93423</td>\n",
       "      <td>48.141651</td>\n",
       "      <td>15.347</td>\n",
       "    </tr>\n",
       "    <tr>\n",
       "      <th>2</th>\n",
       "      <td>0</td>\n",
       "      <td>1</td>\n",
       "      <td>0</td>\n",
       "      <td>0</td>\n",
       "      <td>19.899140</td>\n",
       "      <td>175.850252</td>\n",
       "      <td>0.969</td>\n",
       "      <td>1.78220</td>\n",
       "      <td>10829.0</td>\n",
       "      <td>14.60</td>\n",
       "      <td>638.0</td>\n",
       "      <td>39.30</td>\n",
       "      <td>76.3</td>\n",
       "      <td>5853.0</td>\n",
       "      <td>4.544</td>\n",
       "      <td>0.868</td>\n",
       "      <td>297.00482</td>\n",
       "      <td>48.134129</td>\n",
       "      <td>15.436</td>\n",
       "    </tr>\n",
       "    <tr>\n",
       "      <th>3</th>\n",
       "      <td>0</td>\n",
       "      <td>1</td>\n",
       "      <td>0</td>\n",
       "      <td>0</td>\n",
       "      <td>1.736952</td>\n",
       "      <td>170.307565</td>\n",
       "      <td>1.276</td>\n",
       "      <td>2.40641</td>\n",
       "      <td>8079.2</td>\n",
       "      <td>33.46</td>\n",
       "      <td>1395.0</td>\n",
       "      <td>891.96</td>\n",
       "      <td>505.6</td>\n",
       "      <td>5805.0</td>\n",
       "      <td>4.564</td>\n",
       "      <td>0.791</td>\n",
       "      <td>285.53461</td>\n",
       "      <td>48.285210</td>\n",
       "      <td>15.597</td>\n",
       "    </tr>\n",
       "    <tr>\n",
       "      <th>4</th>\n",
       "      <td>0</td>\n",
       "      <td>0</td>\n",
       "      <td>0</td>\n",
       "      <td>0</td>\n",
       "      <td>2.525592</td>\n",
       "      <td>171.595550</td>\n",
       "      <td>0.701</td>\n",
       "      <td>1.65450</td>\n",
       "      <td>603.3</td>\n",
       "      <td>2.75</td>\n",
       "      <td>1406.0</td>\n",
       "      <td>926.16</td>\n",
       "      <td>40.9</td>\n",
       "      <td>6031.0</td>\n",
       "      <td>4.438</td>\n",
       "      <td>1.046</td>\n",
       "      <td>288.75488</td>\n",
       "      <td>48.226200</td>\n",
       "      <td>15.509</td>\n",
       "    </tr>\n",
       "  </tbody>\n",
       "</table>\n",
       "</div>"
      ],
      "text/plain": [
       "   koi_fpflag_nt  koi_fpflag_ss  koi_fpflag_co  koi_fpflag_ec  koi_period  \\\n",
       "0              0              0              0              0    9.488036   \n",
       "1              0              0              0              0   54.418383   \n",
       "2              0              1              0              0   19.899140   \n",
       "3              0              1              0              0    1.736952   \n",
       "4              0              0              0              0    2.525592   \n",
       "\n",
       "   koi_time0bk  koi_impact  koi_duration  koi_depth  koi_prad  koi_teq  \\\n",
       "0   170.538750       0.146       2.95750      615.8      2.26    793.0   \n",
       "1   162.513840       0.586       4.50700      874.8      2.83    443.0   \n",
       "2   175.850252       0.969       1.78220    10829.0     14.60    638.0   \n",
       "3   170.307565       1.276       2.40641     8079.2     33.46   1395.0   \n",
       "4   171.595550       0.701       1.65450      603.3      2.75   1406.0   \n",
       "\n",
       "   koi_insol  koi_model_snr  koi_steff  koi_slogg  koi_srad         ra  \\\n",
       "0      93.59           35.8     5455.0      4.467     0.927  291.93423   \n",
       "1       9.11           25.8     5455.0      4.467     0.927  291.93423   \n",
       "2      39.30           76.3     5853.0      4.544     0.868  297.00482   \n",
       "3     891.96          505.6     5805.0      4.564     0.791  285.53461   \n",
       "4     926.16           40.9     6031.0      4.438     1.046  288.75488   \n",
       "\n",
       "         dec  koi_kepmag  \n",
       "0  48.141651      15.347  \n",
       "1  48.141651      15.347  \n",
       "2  48.134129      15.436  \n",
       "3  48.285210      15.597  \n",
       "4  48.226200      15.509  "
      ]
     },
     "execution_count": 14,
     "metadata": {},
     "output_type": "execute_result"
    }
   ],
   "source": [
    "features.head()"
   ]
  },
  {
   "cell_type": "code",
   "execution_count": 15,
   "metadata": {},
   "outputs": [
    {
     "data": {
      "text/plain": [
       "(7803, 19)"
      ]
     },
     "execution_count": 15,
     "metadata": {},
     "output_type": "execute_result"
    }
   ],
   "source": [
    "# only numerical values - there should not be any\n",
    "features = features.select_dtypes(include=['number'])\n",
    "features.shape                                   "
   ]
  },
  {
   "cell_type": "code",
   "execution_count": 16,
   "metadata": {},
   "outputs": [
    {
     "data": {
      "text/html": [
       "<div>\n",
       "<style scoped>\n",
       "    .dataframe tbody tr th:only-of-type {\n",
       "        vertical-align: middle;\n",
       "    }\n",
       "\n",
       "    .dataframe tbody tr th {\n",
       "        vertical-align: top;\n",
       "    }\n",
       "\n",
       "    .dataframe thead th {\n",
       "        text-align: right;\n",
       "    }\n",
       "</style>\n",
       "<table border=\"1\" class=\"dataframe\">\n",
       "  <thead>\n",
       "    <tr style=\"text-align: right;\">\n",
       "      <th></th>\n",
       "      <th>koi_fpflag_nt</th>\n",
       "      <th>koi_fpflag_ss</th>\n",
       "      <th>koi_fpflag_co</th>\n",
       "      <th>koi_fpflag_ec</th>\n",
       "      <th>koi_period</th>\n",
       "      <th>koi_time0bk</th>\n",
       "      <th>koi_impact</th>\n",
       "      <th>koi_duration</th>\n",
       "      <th>koi_depth</th>\n",
       "      <th>koi_prad</th>\n",
       "      <th>koi_teq</th>\n",
       "      <th>koi_insol</th>\n",
       "      <th>koi_model_snr</th>\n",
       "      <th>koi_steff</th>\n",
       "      <th>koi_slogg</th>\n",
       "      <th>koi_srad</th>\n",
       "      <th>ra</th>\n",
       "      <th>dec</th>\n",
       "      <th>koi_kepmag</th>\n",
       "    </tr>\n",
       "  </thead>\n",
       "  <tbody>\n",
       "    <tr>\n",
       "      <th>count</th>\n",
       "      <td>7803.000000</td>\n",
       "      <td>7803.000000</td>\n",
       "      <td>7803.000000</td>\n",
       "      <td>7803.000000</td>\n",
       "      <td>7803.000000</td>\n",
       "      <td>7803.000000</td>\n",
       "      <td>7803.000000</td>\n",
       "      <td>7803.000000</td>\n",
       "      <td>7803.000000</td>\n",
       "      <td>7803.000000</td>\n",
       "      <td>7803.000000</td>\n",
       "      <td>7.803000e+03</td>\n",
       "      <td>7803.000000</td>\n",
       "      <td>7803.000000</td>\n",
       "      <td>7803.000000</td>\n",
       "      <td>7803.000000</td>\n",
       "      <td>7803.000000</td>\n",
       "      <td>7803.000000</td>\n",
       "      <td>7803.000000</td>\n",
       "    </tr>\n",
       "    <tr>\n",
       "      <th>mean</th>\n",
       "      <td>0.114828</td>\n",
       "      <td>0.263873</td>\n",
       "      <td>0.215174</td>\n",
       "      <td>0.133667</td>\n",
       "      <td>37.314267</td>\n",
       "      <td>157.877359</td>\n",
       "      <td>0.609685</td>\n",
       "      <td>5.349509</td>\n",
       "      <td>25728.006946</td>\n",
       "      <td>26.965784</td>\n",
       "      <td>1133.811739</td>\n",
       "      <td>7.679770e+03</td>\n",
       "      <td>298.205267</td>\n",
       "      <td>5689.239780</td>\n",
       "      <td>4.320219</td>\n",
       "      <td>1.678491</td>\n",
       "      <td>292.073715</td>\n",
       "      <td>43.836122</td>\n",
       "      <td>14.309852</td>\n",
       "    </tr>\n",
       "    <tr>\n",
       "      <th>std</th>\n",
       "      <td>0.318834</td>\n",
       "      <td>0.440759</td>\n",
       "      <td>0.410969</td>\n",
       "      <td>0.340315</td>\n",
       "      <td>86.826061</td>\n",
       "      <td>57.892061</td>\n",
       "      <td>0.707276</td>\n",
       "      <td>6.198227</td>\n",
       "      <td>83507.082445</td>\n",
       "      <td>313.055376</td>\n",
       "      <td>832.013752</td>\n",
       "      <td>1.679499e+05</td>\n",
       "      <td>853.877036</td>\n",
       "      <td>788.589568</td>\n",
       "      <td>0.420923</td>\n",
       "      <td>5.871606</td>\n",
       "      <td>4.787246</td>\n",
       "      <td>3.599892</td>\n",
       "      <td>1.335016</td>\n",
       "    </tr>\n",
       "    <tr>\n",
       "      <th>min</th>\n",
       "      <td>0.000000</td>\n",
       "      <td>0.000000</td>\n",
       "      <td>0.000000</td>\n",
       "      <td>0.000000</td>\n",
       "      <td>0.259820</td>\n",
       "      <td>120.565925</td>\n",
       "      <td>0.000000</td>\n",
       "      <td>0.302800</td>\n",
       "      <td>4.500000</td>\n",
       "      <td>0.140000</td>\n",
       "      <td>92.000000</td>\n",
       "      <td>2.000000e-02</td>\n",
       "      <td>2.400000</td>\n",
       "      <td>2661.000000</td>\n",
       "      <td>0.047000</td>\n",
       "      <td>0.109000</td>\n",
       "      <td>279.856080</td>\n",
       "      <td>36.577381</td>\n",
       "      <td>6.966000</td>\n",
       "    </tr>\n",
       "    <tr>\n",
       "      <th>25%</th>\n",
       "      <td>0.000000</td>\n",
       "      <td>0.000000</td>\n",
       "      <td>0.000000</td>\n",
       "      <td>0.000000</td>\n",
       "      <td>2.455472</td>\n",
       "      <td>132.633560</td>\n",
       "      <td>0.213000</td>\n",
       "      <td>2.417000</td>\n",
       "      <td>162.350000</td>\n",
       "      <td>1.410000</td>\n",
       "      <td>610.000000</td>\n",
       "      <td>3.263500e+01</td>\n",
       "      <td>14.400000</td>\n",
       "      <td>5306.500000</td>\n",
       "      <td>4.228000</td>\n",
       "      <td>0.826000</td>\n",
       "      <td>288.681730</td>\n",
       "      <td>40.814960</td>\n",
       "      <td>13.519000</td>\n",
       "    </tr>\n",
       "    <tr>\n",
       "      <th>50%</th>\n",
       "      <td>0.000000</td>\n",
       "      <td>0.000000</td>\n",
       "      <td>0.000000</td>\n",
       "      <td>0.000000</td>\n",
       "      <td>7.698431</td>\n",
       "      <td>136.016200</td>\n",
       "      <td>0.579000</td>\n",
       "      <td>3.736000</td>\n",
       "      <td>447.800000</td>\n",
       "      <td>2.460000</td>\n",
       "      <td>934.000000</td>\n",
       "      <td>1.801400e+02</td>\n",
       "      <td>27.400000</td>\n",
       "      <td>5753.000000</td>\n",
       "      <td>4.442000</td>\n",
       "      <td>0.993000</td>\n",
       "      <td>292.294590</td>\n",
       "      <td>43.718182</td>\n",
       "      <td>14.582000</td>\n",
       "    </tr>\n",
       "    <tr>\n",
       "      <th>75%</th>\n",
       "      <td>0.000000</td>\n",
       "      <td>1.000000</td>\n",
       "      <td>0.000000</td>\n",
       "      <td>0.000000</td>\n",
       "      <td>24.089219</td>\n",
       "      <td>159.775731</td>\n",
       "      <td>0.907500</td>\n",
       "      <td>5.973000</td>\n",
       "      <td>1862.350000</td>\n",
       "      <td>19.015000</td>\n",
       "      <td>1426.000000</td>\n",
       "      <td>9.759750e+02</td>\n",
       "      <td>99.350000</td>\n",
       "      <td>6100.000000</td>\n",
       "      <td>4.545000</td>\n",
       "      <td>1.319500</td>\n",
       "      <td>295.895305</td>\n",
       "      <td>46.734850</td>\n",
       "      <td>15.333500</td>\n",
       "    </tr>\n",
       "    <tr>\n",
       "      <th>max</th>\n",
       "      <td>1.000000</td>\n",
       "      <td>1.000000</td>\n",
       "      <td>1.000000</td>\n",
       "      <td>1.000000</td>\n",
       "      <td>1071.232624</td>\n",
       "      <td>1472.522306</td>\n",
       "      <td>25.224000</td>\n",
       "      <td>138.540000</td>\n",
       "      <td>921670.000000</td>\n",
       "      <td>26042.900000</td>\n",
       "      <td>14667.000000</td>\n",
       "      <td>1.094755e+07</td>\n",
       "      <td>9054.700000</td>\n",
       "      <td>15896.000000</td>\n",
       "      <td>5.364000</td>\n",
       "      <td>180.013000</td>\n",
       "      <td>301.720760</td>\n",
       "      <td>52.336010</td>\n",
       "      <td>19.065000</td>\n",
       "    </tr>\n",
       "  </tbody>\n",
       "</table>\n",
       "</div>"
      ],
      "text/plain": [
       "       koi_fpflag_nt  koi_fpflag_ss  koi_fpflag_co  koi_fpflag_ec  \\\n",
       "count    7803.000000    7803.000000    7803.000000    7803.000000   \n",
       "mean        0.114828       0.263873       0.215174       0.133667   \n",
       "std         0.318834       0.440759       0.410969       0.340315   \n",
       "min         0.000000       0.000000       0.000000       0.000000   \n",
       "25%         0.000000       0.000000       0.000000       0.000000   \n",
       "50%         0.000000       0.000000       0.000000       0.000000   \n",
       "75%         0.000000       1.000000       0.000000       0.000000   \n",
       "max         1.000000       1.000000       1.000000       1.000000   \n",
       "\n",
       "        koi_period  koi_time0bk   koi_impact  koi_duration      koi_depth  \\\n",
       "count  7803.000000  7803.000000  7803.000000   7803.000000    7803.000000   \n",
       "mean     37.314267   157.877359     0.609685      5.349509   25728.006946   \n",
       "std      86.826061    57.892061     0.707276      6.198227   83507.082445   \n",
       "min       0.259820   120.565925     0.000000      0.302800       4.500000   \n",
       "25%       2.455472   132.633560     0.213000      2.417000     162.350000   \n",
       "50%       7.698431   136.016200     0.579000      3.736000     447.800000   \n",
       "75%      24.089219   159.775731     0.907500      5.973000    1862.350000   \n",
       "max    1071.232624  1472.522306    25.224000    138.540000  921670.000000   \n",
       "\n",
       "           koi_prad       koi_teq     koi_insol  koi_model_snr     koi_steff  \\\n",
       "count   7803.000000   7803.000000  7.803000e+03    7803.000000   7803.000000   \n",
       "mean      26.965784   1133.811739  7.679770e+03     298.205267   5689.239780   \n",
       "std      313.055376    832.013752  1.679499e+05     853.877036    788.589568   \n",
       "min        0.140000     92.000000  2.000000e-02       2.400000   2661.000000   \n",
       "25%        1.410000    610.000000  3.263500e+01      14.400000   5306.500000   \n",
       "50%        2.460000    934.000000  1.801400e+02      27.400000   5753.000000   \n",
       "75%       19.015000   1426.000000  9.759750e+02      99.350000   6100.000000   \n",
       "max    26042.900000  14667.000000  1.094755e+07    9054.700000  15896.000000   \n",
       "\n",
       "         koi_slogg     koi_srad           ra          dec   koi_kepmag  \n",
       "count  7803.000000  7803.000000  7803.000000  7803.000000  7803.000000  \n",
       "mean      4.320219     1.678491   292.073715    43.836122    14.309852  \n",
       "std       0.420923     5.871606     4.787246     3.599892     1.335016  \n",
       "min       0.047000     0.109000   279.856080    36.577381     6.966000  \n",
       "25%       4.228000     0.826000   288.681730    40.814960    13.519000  \n",
       "50%       4.442000     0.993000   292.294590    43.718182    14.582000  \n",
       "75%       4.545000     1.319500   295.895305    46.734850    15.333500  \n",
       "max       5.364000   180.013000   301.720760    52.336010    19.065000  "
      ]
     },
     "execution_count": 16,
     "metadata": {},
     "output_type": "execute_result"
    }
   ],
   "source": [
    "features.describe()"
   ]
  },
  {
   "cell_type": "code",
   "execution_count": 17,
   "metadata": {},
   "outputs": [
    {
     "data": {
      "text/plain": [
       "Index(['koi_fpflag_nt', 'koi_fpflag_ss', 'koi_fpflag_co', 'koi_fpflag_ec',\n",
       "       'koi_period', 'koi_time0bk', 'koi_impact', 'koi_duration', 'koi_depth',\n",
       "       'koi_prad', 'koi_teq', 'koi_insol', 'koi_model_snr', 'koi_steff',\n",
       "       'koi_slogg', 'koi_srad', 'ra', 'dec', 'koi_kepmag'],\n",
       "      dtype='object')"
      ]
     },
     "execution_count": 17,
     "metadata": {},
     "output_type": "execute_result"
    }
   ],
   "source": [
    "feature_names = features.columns\n",
    "feature_names"
   ]
  },
  {
   "cell_type": "code",
   "execution_count": 18,
   "metadata": {},
   "outputs": [
    {
     "data": {
      "text/plain": [
       "array([[  0.      ,   0.      ,   0.      , ..., 291.93423 ,  48.141651,\n",
       "         15.347   ],\n",
       "       [  0.      ,   0.      ,   0.      , ..., 291.93423 ,  48.141651,\n",
       "         15.347   ],\n",
       "       [  0.      ,   1.      ,   0.      , ..., 297.00482 ,  48.134129,\n",
       "         15.436   ],\n",
       "       ...,\n",
       "       [  0.      ,   0.      ,   0.      , ..., 286.50937 ,  47.163219,\n",
       "         14.757   ],\n",
       "       [  0.      ,   0.      ,   1.      , ..., 294.16489 ,  47.176281,\n",
       "         15.385   ],\n",
       "       [  0.      ,   0.      ,   1.      , ..., 297.00977 ,  47.121021,\n",
       "         14.826   ]])"
      ]
     },
     "execution_count": 18,
     "metadata": {},
     "output_type": "execute_result"
    }
   ],
   "source": [
    "# X is an array of arrays based on the dataframe\n",
    "X = features.to_numpy(copy=True)\n",
    "X"
   ]
  },
  {
   "cell_type": "markdown",
   "metadata": {},
   "source": [
    "## Perform feature selection and remove unnecessary features"
   ]
  },
  {
   "cell_type": "code",
   "execution_count": 19,
   "metadata": {},
   "outputs": [],
   "source": [
    "from sklearn.model_selection import train_test_split\n",
    "X_train, X_test, y_train, y_test = train_test_split(X, y, random_state=42)"
   ]
  },
  {
   "cell_type": "code",
   "execution_count": 20,
   "metadata": {},
   "outputs": [],
   "source": [
    "from sklearn.ensemble import RandomForestClassifier"
   ]
  },
  {
   "cell_type": "code",
   "execution_count": 21,
   "metadata": {},
   "outputs": [
    {
     "data": {
      "text/plain": [
       "1.0"
      ]
     },
     "execution_count": 21,
     "metadata": {},
     "output_type": "execute_result"
    }
   ],
   "source": [
    "# Create a random forest classifier\n",
    "rf = RandomForestClassifier(n_estimators=200)\n",
    "rf = rf.fit(X_train, y_train)\n",
    "rf.score(X_train, y_train)"
   ]
  },
  {
   "cell_type": "code",
   "execution_count": 22,
   "metadata": {},
   "outputs": [
    {
     "data": {
      "text/plain": [
       "array([0.02486544, 0.0579346 , 0.08220616, 0.02255377, 0.04652864,\n",
       "       0.03602047, 0.07087274, 0.04663028, 0.0614051 , 0.11316039,\n",
       "       0.04240811, 0.04083403, 0.17297702, 0.03033544, 0.02998916,\n",
       "       0.02862562, 0.03154503, 0.02969323, 0.03141478])"
      ]
     },
     "execution_count": 22,
     "metadata": {},
     "output_type": "execute_result"
    }
   ],
   "source": [
    "# Random Forests in sklearn will automatically calculate feature importance\n",
    "importances = rf.feature_importances_\n",
    "importances"
   ]
  },
  {
   "cell_type": "code",
   "execution_count": 23,
   "metadata": {},
   "outputs": [
    {
     "data": {
      "text/plain": [
       "[(0.17297702334056986, 'koi_model_snr'),\n",
       " (0.11316038609389577, 'koi_prad'),\n",
       " (0.08220615664057876, 'koi_fpflag_co'),\n",
       " (0.07087274005415378, 'koi_impact'),\n",
       " (0.061405097118620355, 'koi_depth'),\n",
       " (0.05793459594361778, 'koi_fpflag_ss'),\n",
       " (0.04663027511520748, 'koi_duration'),\n",
       " (0.046528639798448373, 'koi_period'),\n",
       " (0.04240811187155299, 'koi_teq'),\n",
       " (0.04083402729187062, 'koi_insol'),\n",
       " (0.03602047317872307, 'koi_time0bk'),\n",
       " (0.03154502992625068, 'ra'),\n",
       " (0.0314147808867297, 'koi_kepmag'),\n",
       " (0.030335439702600858, 'koi_steff'),\n",
       " (0.02998916359378712, 'koi_slogg'),\n",
       " (0.029693231200510848, 'dec'),\n",
       " (0.028625616318438202, 'koi_srad'),\n",
       " (0.024865438296039682, 'koi_fpflag_nt'),\n",
       " (0.022553773628404192, 'koi_fpflag_ec')]"
      ]
     },
     "execution_count": 23,
     "metadata": {},
     "output_type": "execute_result"
    }
   ],
   "source": [
    "# We can sort the features by their importance\n",
    "sorted(zip(rf.feature_importances_, feature_names), reverse=True)"
   ]
  },
  {
   "cell_type": "code",
   "execution_count": 24,
   "metadata": {},
   "outputs": [
    {
     "data": {
      "text/plain": [
       "0.9036391594054332"
      ]
     },
     "execution_count": 24,
     "metadata": {},
     "output_type": "execute_result"
    }
   ],
   "source": [
    "# validate per test data\n",
    "rf.score(X_test, y_test)"
   ]
  },
  {
   "cell_type": "code",
   "execution_count": null,
   "metadata": {},
   "outputs": [],
   "source": []
  }
 ],
 "metadata": {
  "kernelspec": {
   "display_name": "Python 3",
   "language": "python",
   "name": "python3"
  },
  "language_info": {
   "codemirror_mode": {
    "name": "ipython",
    "version": 3
   },
   "file_extension": ".py",
   "mimetype": "text/x-python",
   "name": "python",
   "nbconvert_exporter": "python",
   "pygments_lexer": "ipython3",
   "version": "3.7.3"
  }
 },
 "nbformat": 4,
 "nbformat_minor": 2
}
